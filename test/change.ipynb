{
 "cells": [
  {
   "cell_type": "code",
   "execution_count": null,
   "metadata": {},
   "outputs": [],
   "source": [
    "import pandas as pd\n",
    "import os\n",
    "import re\n",
    "\n",
    "\n",
    "\n",
    "files = os.listdir(\"./images/\")\n",
    "\n",
    "for i in files:\n",
    "    pt = re.compile(\"\\w+\")\n",
    "    ss = pt.findall(i)\n",
    "    \n",
    "    if ss:\n",
    "        aa = int(ss[0])\n",
    "        \n",
    "        new_filename = f'{train_l[aa]}.jpg'\n",
    "        print(i)\n",
    "        old_filepath = os.path.join(\"./images/\", i)\n",
    "        print(aa)\n",
    "        \n",
    "        new_filepath = os.path.join(\"./tt/\", new_filename)\n",
    "        print(new_filename)\n",
    "        # 이미 파일이 존재하는지 확인 후 이름 변경\n",
    "        if not os.path.exists(new_filepath):\n",
    "            os.rename(old_filepath, new_filepath)\n",
    "            print(f'{i} -> {new_filename}')\n",
    "        else:\n",
    "            print(f'Error: {new_filename} already exists.')\n",
    "    else:\n",
    "        print(f'Error: No number found in {i}.')\n"
   ]
  },
  {
   "cell_type": "code",
   "execution_count": 9,
   "metadata": {},
   "outputs": [
    {
     "ename": "ValueError",
     "evalue": "too many values to unpack (expected 2)",
     "output_type": "error",
     "traceback": [
      "\u001b[1;31m---------------------------------------------------------------------------\u001b[0m",
      "\u001b[1;31mValueError\u001b[0m                                Traceback (most recent call last)",
      "Cell \u001b[1;32mIn[9], line 10\u001b[0m\n\u001b[0;32m      6\u001b[0m train_l \u001b[38;5;241m=\u001b[39m train[\u001b[38;5;124m'\u001b[39m\u001b[38;5;124mRestaurantName\u001b[39m\u001b[38;5;124m'\u001b[39m]\u001b[38;5;241m.\u001b[39mto_list()\n\u001b[0;32m      8\u001b[0m files \u001b[38;5;241m=\u001b[39m os\u001b[38;5;241m.\u001b[39mlistdir(\u001b[38;5;124m\"\u001b[39m\u001b[38;5;124m./images/\u001b[39m\u001b[38;5;124m\"\u001b[39m)\n\u001b[1;32m---> 10\u001b[0m \u001b[38;5;28;01mfor\u001b[39;00m idx, name \u001b[38;5;129;01min\u001b[39;00m files:\n\u001b[0;32m     11\u001b[0m     name \u001b[38;5;241m=\u001b[39m name\u001b[38;5;241m.\u001b[39mreplace(\u001b[38;5;124m'\u001b[39m\u001b[38;5;124m \u001b[39m\u001b[38;5;124m'\u001b[39m, \u001b[38;5;124m'\u001b[39m\u001b[38;5;124m'\u001b[39m)\n\u001b[0;32m     12\u001b[0m     pt \u001b[38;5;241m=\u001b[39m re\u001b[38;5;241m.\u001b[39mcompile(\u001b[38;5;124m\"\u001b[39m\u001b[38;5;124m\\\u001b[39m\u001b[38;5;124mw+\u001b[39m\u001b[38;5;124m\"\u001b[39m)\n",
      "\u001b[1;31mValueError\u001b[0m: too many values to unpack (expected 2)"
     ]
    }
   ],
   "source": [
    "import pandas as pd\n",
    "import os\n",
    "import re\n",
    "\n",
    "train = pd.read_csv(\"./restaurant_data.csv\", encoding='utf-8')\n",
    "train_l = train['RestaurantName'].to_list()\n",
    "\n",
    "files = os.listdir(\"./images/\")\n",
    "\n",
    "for idx, name in files:\n",
    "    name = name.replace(' ', '')\n",
    "    pt = re.compile(\"\\w+\")\n",
    "    ss = pt.findall(name)\n",
    "    print(ss[0])"
   ]
  },
  {
   "cell_type": "code",
   "execution_count": 1,
   "metadata": {},
   "outputs": [
    {
     "ename": "FileNotFoundError",
     "evalue": "[WinError 3] 지정된 경로를 찾을 수 없습니다: 'image/'",
     "output_type": "error",
     "traceback": [
      "\u001b[1;31m---------------------------------------------------------------------------\u001b[0m",
      "\u001b[1;31mFileNotFoundError\u001b[0m                         Traceback (most recent call last)",
      "Cell \u001b[1;32mIn[1], line 12\u001b[0m\n\u001b[0;32m      9\u001b[0m data \u001b[38;5;241m=\u001b[39m []\n\u001b[0;32m     11\u001b[0m \u001b[38;5;66;03m# img 폴더 내의 파일 목록 가져오기\u001b[39;00m\n\u001b[1;32m---> 12\u001b[0m files \u001b[38;5;241m=\u001b[39m \u001b[43mos\u001b[49m\u001b[38;5;241;43m.\u001b[39;49m\u001b[43mlistdir\u001b[49m\u001b[43m(\u001b[49m\u001b[43mimg_folder_path\u001b[49m\u001b[43m)\u001b[49m\n\u001b[0;32m     13\u001b[0m number1 \u001b[38;5;241m=\u001b[39m \u001b[38;5;241m0\u001b[39m\n\u001b[0;32m     14\u001b[0m \u001b[38;5;66;03m# 파일 이름을 순회하며 데이터 추출\u001b[39;00m\n",
      "\u001b[1;31mFileNotFoundError\u001b[0m: [WinError 3] 지정된 경로를 찾을 수 없습니다: 'image/'"
     ]
    }
   ],
   "source": [
    "import os\n",
    "import pandas as pd\n",
    "\n",
    "# 이미지가 저장된 폴더 경로\n",
    "img_folder_path = 'image/'\n",
    "new_img_folder_path = 'aa/'\n",
    "\n",
    "# DataFrame을 저장할 빈 리스트 생성\n",
    "data = []\n",
    "\n",
    "# img 폴더 내의 파일 목록 가져오기\n",
    "files = os.listdir(img_folder_path)\n",
    "number1 = 0\n",
    "# 파일 이름을 순회하며 데이터 추출\n",
    "for file_name in files:\n",
    "    if file_name.endswith('.jpg'):  # jpg 파일만 고려\n",
    "        # 파일 이름에서 음식명, 순번 추출\n",
    "        match = re.match(r'([a-zA-Z가-힣]+)(\\d+)\\.jpg', file_name)\n",
    "        if match:\n",
    "            food_name = match.group(1)\n",
    "            number = int(match.group(2))\n",
    "            print(f'음식명: {food_name}, 순번: {number}')\n",
    "            \n",
    "            # 새로운 파일명 생성 (image숫자.jpg)\n",
    "            new_file_name = f'image{number1}.jpg'\n",
    "            \n",
    "            # 새로운 경로에 파일 이동\n",
    "            os.rename(os.path.join(img_folder_path, file_name), os.path.join(new_img_folder_path, new_file_name))\n",
    "            \n",
    "            # 데이터 리스트에 추가\n",
    "            data.append({'음식명': food_name, '순번': int(number), '이미지파일명': new_file_name})\n",
    "            number1 += 1\n",
    "        \n",
    "        \n",
    "        else:\n",
    "            print('매칭되는 형식이 아닙니다.')\n",
    "        \n",
    "        # 데이터 리스트에 추가\n",
    "        data.append({'음식명': food_name, '순번': int(number), '이미지파일명': new_file_name})\n",
    "\n",
    "# 리스트를 DataFrame으로 변환\n",
    "df = pd.DataFrame(data)\n",
    "\n",
    "# DataFrame을 원하는 형식으로 정렬 (음식명과 순번 순으로)\n",
    "df = df.sort_values(by=['음식명', '순번'])\n",
    "\n",
    "# 결과를 CSV 파일로 저장\n",
    "df.to_csv('이미지정보.csv', index=False)\n",
    "\n",
    "print(\"이미지 정보가 정상적으로 저장되었습니다.\")\n"
   ]
  },
  {
   "cell_type": "code",
   "execution_count": null,
   "metadata": {},
   "outputs": [],
   "source": []
  }
 ],
 "metadata": {
  "kernelspec": {
   "display_name": "Python 3",
   "language": "python",
   "name": "python3"
  },
  "language_info": {
   "codemirror_mode": {
    "name": "ipython",
    "version": 3
   },
   "file_extension": ".py",
   "mimetype": "text/x-python",
   "name": "python",
   "nbconvert_exporter": "python",
   "pygments_lexer": "ipython3",
   "version": "3.11.5"
  }
 },
 "nbformat": 4,
 "nbformat_minor": 2
}
